{
  "nbformat": 4,
  "nbformat_minor": 0,
  "metadata": {
    "colab": {
      "name": "TP3_data-structure_for.ipynb",
      "provenance": [],
      "collapsed_sections": []
    },
    "kernelspec": {
      "name": "python3",
      "display_name": "Python 3"
    },
    "language_info": {
      "name": "python"
    }
  },
  "cells": [
    {
      "cell_type": "markdown",
      "metadata": {
        "id": "l6kvcYVYenjI"
      },
      "source": [
        "# **TP3 Data Structure and `for` loop**"
      ]
    },
    {
      "cell_type": "markdown",
      "metadata": {
        "id": "3H6LvrMapi49"
      },
      "source": [
        "**0.1** Print all the numbers in the list `age` using `for` loop. "
      ]
    },
    {
      "cell_type": "code",
      "metadata": {
        "colab": {
          "base_uri": "https://localhost:8080/"
        },
        "id": "KYr7lNpBp0IM",
        "outputId": "1f36f41a-aa2b-4c6c-9c37-2ae551359662"
      },
      "source": [
        "age = [12,30,45,60,70,90]\n",
        "\n",
        "for x in age:\n",
        "  print(x)\n",
        "  "
      ],
      "execution_count": 1,
      "outputs": [
        {
          "output_type": "stream",
          "name": "stdout",
          "text": [
            "12\n",
            "30\n",
            "45\n",
            "60\n",
            "70\n",
            "90\n"
          ]
        }
      ]
    },
    {
      "cell_type": "markdown",
      "metadata": {
        "id": "8n5BGjMup67Y"
      },
      "source": [
        "**0.2** Two ways to print all the names in the list `friends` using `for` loop. "
      ]
    },
    {
      "cell_type": "code",
      "metadata": {
        "id": "QgqgEJLLqLJ9",
        "colab": {
          "base_uri": "https://localhost:8080/"
        },
        "outputId": "d9e837df-e004-4421-914e-8557addc2311"
      },
      "source": [
        "friends = [\"Alice\",\"Lily\",\"Lucy\",\"Max\",\"Harry\",\"Jerry\"]\n",
        "# in clause\n",
        "for friend in friends:\n",
        "  print(friend) \n",
        "# range() method\n",
        "for i in range(len(friends)):\n",
        "  print(friends[i])"
      ],
      "execution_count": 4,
      "outputs": [
        {
          "output_type": "stream",
          "name": "stdout",
          "text": [
            "Alice\n",
            "Lily\n",
            "Lucy\n",
            "Max\n",
            "Harry\n",
            "Jerry\n",
            "Alice\n",
            "Lily\n",
            "Lucy\n",
            "Max\n",
            "Harry\n",
            "Jerry\n"
          ]
        }
      ]
    },
    {
      "cell_type": "markdown",
      "metadata": {
        "id": "PJqwo_33qdD7"
      },
      "source": [
        "**0.3** Print all the letters in the string `s` using `for` loop. (same as 0.2)\n"
      ]
    },
    {
      "cell_type": "code",
      "metadata": {
        "id": "utExT5U7qqR5",
        "colab": {
          "base_uri": "https://localhost:8080/"
        },
        "outputId": "44f5d77a-1bec-4dbb-a3ad-281ed097d5f2"
      },
      "source": [
        "s = \"abracadabra\"\n",
        "for letter in s:\n",
        "  print(letter)"
      ],
      "execution_count": 5,
      "outputs": [
        {
          "output_type": "stream",
          "name": "stdout",
          "text": [
            "a\n",
            "b\n",
            "r\n",
            "a\n",
            "c\n",
            "a\n",
            "d\n",
            "a\n",
            "b\n",
            "r\n",
            "a\n"
          ]
        }
      ]
    },
    {
      "cell_type": "markdown",
      "metadata": {
        "id": "x2AsV08AjgsA"
      },
      "source": [
        "## $\\color{blue}{\\text{Exercise 1 - The Smallest Value }}$\n",
        "How would we change this to make it find the smallest value in the list?\n"
      ]
    },
    {
      "cell_type": "code",
      "metadata": {
        "id": "2CQrepq3jgKW"
      },
      "source": [
        "lst = [9, 41, 12, 3, 74, 15]\n",
        "largest_so_far = -999\n",
        "print('Before', largest_so_far)\n",
        "for the_num in lst :\n",
        "   if the_num > largest_so_far :\n",
        "      largest_so_far = the_num\n",
        "   print(largest_so_far, the_num)\n",
        "\n",
        "print('After', largest_so_far)\n"
      ],
      "execution_count": null,
      "outputs": []
    },
    {
      "cell_type": "code",
      "metadata": {
        "id": "X_w9XUlckY-Q",
        "colab": {
          "base_uri": "https://localhost:8080/"
        },
        "outputId": "5d275f0a-6442-43e8-c447-7e7c246e71a0"
      },
      "source": [
        "lst = [9, 41, 12, 3, 74, 15]\n",
        "smallest_so_far = 999\n",
        "print('Before', smallest_so_far)\n",
        "for the_num in lst :\n",
        "   if the_num < smallest_so_far :\n",
        "      smallest_so_far = the_num\n",
        "   print(smallest_so_far, the_num)\n",
        "\n",
        "print('After', smallest_so_far)\n"
      ],
      "execution_count": 8,
      "outputs": [
        {
          "output_type": "stream",
          "name": "stdout",
          "text": [
            "Before 999\n",
            "9 9\n",
            "9 41\n",
            "9 12\n",
            "3 3\n",
            "3 74\n",
            "3 15\n",
            "After 3\n"
          ]
        }
      ]
    },
    {
      "cell_type": "markdown",
      "metadata": {
        "id": "sXXWq9Cnkiqm"
      },
      "source": [
        "## $\\color{blue}{\\text{Exercise 2 - Filtering in a Loop }}$\n",
        "Display all the words of length at most 4 in the `str_lst`"
      ]
    },
    {
      "cell_type": "code",
      "metadata": {
        "id": "4d-cnVSNlFn2"
      },
      "source": [
        "# example from lecture 3 for catching all the values greater than 20 in the following list\n",
        "for value in [9, 41, 12, 3, 74, 15] :\n",
        "    if value > 20:\n",
        " \t    print('Large number',value)\n"
      ],
      "execution_count": null,
      "outputs": []
    },
    {
      "cell_type": "code",
      "metadata": {
        "colab": {
          "base_uri": "https://localhost:8080/"
        },
        "id": "bZgmMLmLlcz4",
        "outputId": "5a9763e7-d959-4475-bb3b-1183fe1523fb"
      },
      "source": [
        "str_lst = ['We', 'use', 'an', 'if', 'statement', 'in', 'the', 'loop', 'to', 'catch',\n",
        "           'the', 'values', 'we', 'are', 'looking', 'for']\n",
        "for word in str_lst:\n",
        "  if len(word)<5:\n",
        "    print(word)"
      ],
      "execution_count": 10,
      "outputs": [
        {
          "output_type": "stream",
          "name": "stdout",
          "text": [
            "We\n",
            "use\n",
            "an\n",
            "if\n",
            "in\n",
            "the\n",
            "loop\n",
            "to\n",
            "the\n",
            "we\n",
            "are\n",
            "for\n"
          ]
        }
      ]
    },
    {
      "cell_type": "markdown",
      "metadata": {
        "id": "0QcjJxGUbf2K"
      },
      "source": [
        "## $\\color{blue}{\\text{Exercise 3 - Counting in a loop }}$\n",
        "**3.1** Ask users to enter an English word then count and display the vowels in that word.(Using `for` loop)\n",
        "\n",
        "Expected output:\n",
        "```\n",
        "Please enter an English word: Loop\n",
        "There are 2 vowels in the string \"Loop\".\n",
        "```\n",
        "\n"
      ]
    },
    {
      "cell_type": "code",
      "metadata": {
        "id": "Ea1aoqdNbJdY",
        "colab": {
          "base_uri": "https://localhost:8080/"
        },
        "outputId": "41cbd76d-281a-43d7-8166-5d836e856917"
      },
      "source": [
        "# 1.define a list of vowels\n",
        "vowels = [\"a\",\"e\",\"i\",\"o\",\"u\"]\n",
        "# 2.get user's input word\n",
        "word = input('PLease enter an English word: ')\n",
        "# 3.introduce a count variable, use `for` loop to add one to it each time we have a vowel\n",
        "nb_vowels = 0\n",
        "for letter in word: \n",
        "  if letter in vowels:\n",
        "    nb_vowels+=1\n",
        "print(\"There are {0} vowels in the string '{1}'.\".format(nb_vowels,word))"
      ],
      "execution_count": 16,
      "outputs": [
        {
          "output_type": "stream",
          "name": "stdout",
          "text": [
            "PLease enter an English word: banana\n",
            "There are 3 vowels in the string 'banana'.\n"
          ]
        }
      ]
    },
    {
      "cell_type": "markdown",
      "metadata": {
        "id": "2IajDiQpfFLv"
      },
      "source": [
        "**3.2** Using `dictionnary` to count the occurrence of each letter in a given word.\n",
        "\n",
        "expected output:\n",
        "```\n",
        "Please enter a string: abracadabra\n",
        "{'a': 5, 'b': 1, 'r': 2, 'c': 1, 'd': 1}\n",
        "```\n",
        "\n",
        "**Hint:** we use `in` statement to check if the item `'a'` is a key in a dictionary `d`:\n",
        "\n",
        "+ if `'a'` is a key in the dictinary `d`, we can update its value by `d['a'] = d['a'] + 1 `\n",
        "\n",
        "+ if not, we assign a new key with value `1` : `d['a'] =1`"
      ]
    },
    {
      "cell_type": "code",
      "metadata": {
        "id": "G3emq1GpfEdr",
        "colab": {
          "base_uri": "https://localhost:8080/"
        },
        "outputId": "7852c9e0-a9ef-46e2-9b70-a2e4a562197e"
      },
      "source": [
        "word = input(\"Please enter a word: \")\n",
        "d = dict()\n",
        "for letter in word:\n",
        "  if letter in d:\n",
        "    d[letter]+=1\n",
        "  else:\n",
        "    d[letter]=1\n",
        "print(d)"
      ],
      "execution_count": 17,
      "outputs": [
        {
          "output_type": "stream",
          "name": "stdout",
          "text": [
            "Please enter a word: banana\n",
            "{'b': 1, 'a': 3, 'n': 2}\n"
          ]
        }
      ]
    }
  ]
}