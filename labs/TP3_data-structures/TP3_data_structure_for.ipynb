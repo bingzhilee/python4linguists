{
  "nbformat": 4,
  "nbformat_minor": 0,
  "metadata": {
    "colab": {
      "name": "TP3_data-structure_for.ipynb",
      "provenance": [],
      "collapsed_sections": []
    },
    "kernelspec": {
      "name": "python3",
      "display_name": "Python 3"
    },
    "language_info": {
      "name": "python"
    }
  },
  "cells": [
    {
      "cell_type": "markdown",
      "metadata": {
        "id": "l6kvcYVYenjI"
      },
      "source": [
        "# **TP3 Data Structure and `for` loop**"
      ]
    },
    {
      "cell_type": "markdown",
      "metadata": {
        "id": "3H6LvrMapi49"
      },
      "source": [
        "**0.1** Print all the numbers in the list `age` using `for` loop. "
      ]
    },
    {
      "cell_type": "code",
      "metadata": {
        "id": "KYr7lNpBp0IM"
      },
      "source": [
        "age = [12,30,45,60,70,90]\n",
        "# TODO"
      ],
      "execution_count": null,
      "outputs": []
    },
    {
      "cell_type": "markdown",
      "metadata": {
        "id": "8n5BGjMup67Y"
      },
      "source": [
        "**0.2** Two ways to print all the names in the list `friends` using `for` loop. "
      ]
    },
    {
      "cell_type": "code",
      "metadata": {
        "id": "QgqgEJLLqLJ9"
      },
      "source": [
        "friends = [\"Alice\",\"Lily\",\"Lucy\",\"Max\",\"Harry\",\"Jerry\"]\n",
        "# TODO1 \n",
        "# TODO2"
      ],
      "execution_count": null,
      "outputs": []
    },
    {
      "cell_type": "markdown",
      "metadata": {
        "id": "PJqwo_33qdD7"
      },
      "source": [
        "**0.3** Print all the letters in the string `s` using `for` loop. (same as 0.2)\n"
      ]
    },
    {
      "cell_type": "code",
      "metadata": {
        "id": "utExT5U7qqR5"
      },
      "source": [
        "s = \"abracadabra\"\n",
        "#TODO"
      ],
      "execution_count": null,
      "outputs": []
    },
    {
      "cell_type": "markdown",
      "metadata": {
        "id": "x2AsV08AjgsA"
      },
      "source": [
        "## $\\color{blue}{\\text{Exercise 1 - The Smallest Value }}$\n",
        "How would we change this to make it find the smallest value in the list?\n"
      ]
    },
    {
      "cell_type": "code",
      "metadata": {
        "id": "2CQrepq3jgKW"
      },
      "source": [
        "lst = [9, 41, 12, 3, 74, 15]\n",
        "largest_so_far = -999\n",
        "print('Before', largest_so_far)\n",
        "for the_num in lst :\n",
        "   if the_num > largest_so_far :\n",
        "      largest_so_far = the_num\n",
        "   print(largest_so_far, the_num)\n",
        "\n",
        "print('After', largest_so_far)\n"
      ],
      "execution_count": null,
      "outputs": []
    },
    {
      "cell_type": "code",
      "metadata": {
        "id": "X_w9XUlckY-Q"
      },
      "source": [
        "#TODO\n"
      ],
      "execution_count": 1,
      "outputs": []
    },
    {
      "cell_type": "markdown",
      "metadata": {
        "id": "sXXWq9Cnkiqm"
      },
      "source": [
        "## $\\color{blue}{\\text{Exercise 2 - Filtering in a Loop }}$\n",
        "Display all the words of length at most 4 in the `str_lst`"
      ]
    },
    {
      "cell_type": "code",
      "metadata": {
        "id": "4d-cnVSNlFn2"
      },
      "source": [
        "# example from lecture 3 for catching all the values greater than 20 in the following list\n",
        "for value in [9, 41, 12, 3, 74, 15] :\n",
        "    if value > 20:\n",
        " \t    print('Large number',value)\n"
      ],
      "execution_count": null,
      "outputs": []
    },
    {
      "cell_type": "code",
      "metadata": {
        "id": "bZgmMLmLlcz4"
      },
      "source": [
        "str_lst = ['We', 'use', 'an', 'if', 'statement', 'in', 'the', 'loop', 'to', 'catch',\n",
        "           'the', 'values', 'we', 'are', 'looking', 'for']\n",
        "#TODO"
      ],
      "execution_count": null,
      "outputs": []
    },
    {
      "cell_type": "markdown",
      "metadata": {
        "id": "0QcjJxGUbf2K"
      },
      "source": [
        "## $\\color{blue}{\\text{Exercise 3 - Counting in a loop }}$\n",
        "**3.1** Ask users to enter an English word then count and display the vowels in that word.(Using `for` loop)\n",
        "\n",
        "Expected output:\n",
        "```\n",
        "Please enter an English word: Loop\n",
        "There are 2 vowels in the string \"Loop\".\n",
        "```\n",
        "\n"
      ]
    },
    {
      "cell_type": "code",
      "metadata": {
        "id": "Ea1aoqdNbJdY"
      },
      "source": [
        "# 1.define a list of vowels\n",
        "#TODO\n",
        "# 2.get user's input word\n",
        "#TODO\n",
        "# 3.introduce a count variable, use `for` loop to add one to it each time we have a vowel\n",
        "#TODO "
      ],
      "execution_count": null,
      "outputs": []
    },
    {
      "cell_type": "markdown",
      "metadata": {
        "id": "2IajDiQpfFLv"
      },
      "source": [
        "**3.2** Using `dictionnary` to count the occurrences of each letter in a given word.\n",
        "\n",
        "expected output:\n",
        "```\n",
        "Please enter a string: abracadabra\n",
        "{'a': 5, 'b': 1, 'r': 2, 'c': 1, 'd': 1}\n",
        "```\n",
        "\n",
        "**Hint:** we use `in` statement to check if the item `'a'` is a key in a dictionary `d`:\n",
        "\n",
        "+ if `'a'` is a key in the dictinary `d`, we can update its value by `d['a'] = d['a'] + 1 `\n",
        "\n",
        "+ if not, we assign a new key with value `1` : `d['a'] =1`"
      ]
    },
    {
      "cell_type": "code",
      "metadata": {
        "id": "G3emq1GpfEdr"
      },
      "source": [
        "#TODO"
      ],
      "execution_count": 6,
      "outputs": []
    }
  ]
}