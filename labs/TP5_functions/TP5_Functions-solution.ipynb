{
  "nbformat": 4,
  "nbformat_minor": 0,
  "metadata": {
    "colab": {
      "name": "TP5-Functions.ipynb",
      "provenance": [],
      "collapsed_sections": []
    },
    "kernelspec": {
      "name": "python3",
      "display_name": "Python 3"
    },
    "language_info": {
      "name": "python"
    }
  },
  "cells": [
    {
      "cell_type": "markdown",
      "metadata": {
        "id": "U9Zl04wa3W6r"
      },
      "source": [
        "## Compute pay"
      ]
    },
    {
      "cell_type": "code",
      "metadata": {
        "colab": {
          "base_uri": "https://localhost:8080/"
        },
        "id": "zUpL1OHc3R5V",
        "outputId": "e5995e2d-acf6-4861-9b06-3fe479b77cce"
      },
      "source": [
        "# 1\n",
        "def compute_pay(hh, rr):\n",
        "  if hours <= 40 :\n",
        "    pay = rate * hours\n",
        "  else:\n",
        "    pay = 40 * rate + (hours - 40) * 1.5 * rate\n",
        "  return pay\n",
        "\n",
        "h = input('Enter Hours: ')\n",
        "r = input('Enter Rate: ')\n",
        "rate = float(r) \n",
        "hours = float(h)\n",
        "pay = compute_pay(hours, rate)\n",
        "print('Pay:', pay)"
      ],
      "execution_count": 1,
      "outputs": [
        {
          "output_type": "stream",
          "name": "stdout",
          "text": [
            "Enter Hours: 45\n",
            "Enter Rate: 10\n",
            "Pay: 475.0\n"
          ]
        }
      ]
    },
    {
      "cell_type": "markdown",
      "metadata": {
        "id": "aBmKS89mwFoc"
      },
      "source": [
        "## Tokenization"
      ]
    },
    {
      "cell_type": "code",
      "metadata": {
        "colab": {
          "base_uri": "https://localhost:8080/"
        },
        "id": "8suLSBj-vJSh",
        "outputId": "223ed075-26b1-42a9-9c56-6bc891c8fc54"
      },
      "source": [
        "# 2\n",
        "sent = \"Le matin, le chat miaule.\"\n",
        "def tokenize(sentence):\n",
        "  \"\"\"\n",
        "  splits a sentence s into a list of words, including \".\" and \",\"\n",
        "  :return: the tokens \n",
        "  :rtype: str\n",
        "  \"\"\"\n",
        "  sent = sentence.replace(\",\", \" ,\") # add a space before comma\n",
        "  sent = sent.replace(\".\", \" .\") # add a space\n",
        "  tokens = sent.split() #splits a sentence s into a list of words\n",
        "\n",
        "  return tokens\n",
        "tokens = tokenize(sent)\n",
        "for token in tokens:\n",
        "        print(token)"
      ],
      "execution_count": 7,
      "outputs": [
        {
          "output_type": "stream",
          "name": "stdout",
          "text": [
            "Le\n",
            "matin\n",
            ",\n",
            "le\n",
            "chat\n",
            "miaule\n",
            ".\n"
          ]
        }
      ]
    },
    {
      "cell_type": "code",
      "metadata": {
        "colab": {
          "base_uri": "https://localhost:8080/"
        },
        "id": "HeH95I1-wJei",
        "outputId": "434c4ef6-8fe0-4edb-fb43-602182a3ef97"
      },
      "source": [
        "# 3\n",
        "import string # import string module \n",
        "def word_count(sentence):\n",
        "  \"\"\" \n",
        "   Count the number of words identi\fed in a string of characters \n",
        "   by using the function tokenize(), but it does not count punctuation.\n",
        "      :return: number of words\n",
        "      :rtype: int\n",
        "  \"\"\"     \n",
        "  tokens = tokenize(sentence)\n",
        "  word_list = []\n",
        "  for e in tokens:\n",
        "    if e not in string.punctuation:\n",
        "      word_list.append(e)\n",
        "  return len(word_list),word_list\n",
        "\n",
        "n, sent_list = word_count(sent)\n",
        "print(\"This sentece contain\",n,\"words.\")"
      ],
      "execution_count": 10,
      "outputs": [
        {
          "output_type": "stream",
          "name": "stdout",
          "text": [
            "This sentece contain 5 words.\n"
          ]
        }
      ]
    },
    {
      "cell_type": "markdown",
      "metadata": {
        "id": "MERu6jfB_CtF"
      },
      "source": [
        "## Character searching"
      ]
    },
    {
      "cell_type": "code",
      "metadata": {
        "colab": {
          "base_uri": "https://localhost:8080/"
        },
        "id": "0BEXkkUWyGKM",
        "outputId": "b722b8d9-d88c-4424-afe7-74765f83bccf"
      },
      "source": [
        "# 4\n",
        "def find_first(c,s):\n",
        "    \"\"\" find the position (positive index) of the \ffirst occurrence of the character c in the string s.\n",
        "         \n",
        "        :param c: a character\n",
        "        :type c: str\n",
        "        :param s: string\n",
        "        :type s: str \n",
        "        :return: index of c\n",
        "        :rtype: int\n",
        "    \"\"\" \n",
        "    for i in range(len(s)):\n",
        "        if s[i] == c:\n",
        "            return i\n",
        "    return None\n",
        "print(find_first(\"a\", \"maison\"))"
      ],
      "execution_count": 17,
      "outputs": [
        {
          "output_type": "stream",
          "name": "stdout",
          "text": [
            "1\n"
          ]
        }
      ]
    },
    {
      "cell_type": "code",
      "metadata": {
        "colab": {
          "base_uri": "https://localhost:8080/"
        },
        "id": "uPit46SJytCI",
        "outputId": "b9719106-3748-4405-cf50-eb31f78f3cd2"
      },
      "source": [
        "# 5\n",
        "def find_last(c,s):\n",
        "    \"\"\" find the position (negative index) of the \flast occurrence of the character c in the string s.\n",
        "         \n",
        "        :param c: a character\n",
        "        :type c: str\n",
        "        :param s: string\n",
        "        :type s: str \n",
        "        :return: index of c\n",
        "        :rtype: int\n",
        "    \"\"\" \n",
        "\n",
        "    for i in range(1, len(s) + 1):\n",
        "        if s[-i] == c:\n",
        "            return -i\n",
        "    return None\n",
        "print(find_last(\"a\", \"maison\"))"
      ],
      "execution_count": 19,
      "outputs": [
        {
          "output_type": "stream",
          "name": "stdout",
          "text": [
            "-5\n"
          ]
        }
      ]
    },
    {
      "cell_type": "code",
      "metadata": {
        "colab": {
          "base_uri": "https://localhost:8080/"
        },
        "id": "feAjHMaHy58E",
        "outputId": "230a41f4-d666-44c3-8e01-e29561857b8c"
      },
      "source": [
        "# 6\n",
        "def find_next(c,s,p):\n",
        "    \"\"\" Find the position (positive index) of the next occurrence of the character c in the string s \n",
        "        starting from from the index position p\n",
        "         \n",
        "        :param c: a character\n",
        "        :type c: str\n",
        "        :param s: string\n",
        "        :type s: str \n",
        "        :param p: starting index\n",
        "        :type p: int\n",
        "        :return: index of c\n",
        "        :rtype: int\n",
        "    \"\"\"    \n",
        "\n",
        "    substring = s[p:]\n",
        "    found = find_first(c, substring)\n",
        "    if found != None:\n",
        "        return p + found\n",
        "    return None\n",
        "find_next(\"r\",\"arbre\",2)"
      ],
      "execution_count": 18,
      "outputs": [
        {
          "output_type": "execute_result",
          "data": {
            "text/plain": [
              "3"
            ]
          },
          "metadata": {},
          "execution_count": 18
        }
      ]
    },
    {
      "cell_type": "code",
      "metadata": {
        "colab": {
          "base_uri": "https://localhost:8080/"
        },
        "id": "Iavi8pUuzJdB",
        "outputId": "c0f3f8d2-78d8-468b-d4eb-e1aa4f96f680"
      },
      "source": [
        "# 7\n",
        "def find_all(c,s):    \n",
        "    \"\"\" Displays the (positive) position indices of all occurrences of the character c in the string s.\n",
        "\n",
        "        :param c: a character\n",
        "        :type c: str\n",
        "        :param s: string\n",
        "        :type s: str \n",
        "    \"\"\"\n",
        "\n",
        "    found = find_next(c, s, 0)\n",
        "\n",
        "    while found != None:\n",
        "        print(found)\n",
        "        found = find_next(c, s, found + 1)\n",
        "\n",
        "find_all(\"i\", \"linguistique\")"
      ],
      "execution_count": 20,
      "outputs": [
        {
          "output_type": "stream",
          "name": "stdout",
          "text": [
            "1\n",
            "5\n",
            "8\n"
          ]
        }
      ]
    }
  ]
}