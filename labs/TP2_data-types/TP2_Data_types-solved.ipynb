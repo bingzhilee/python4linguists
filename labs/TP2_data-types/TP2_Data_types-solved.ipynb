{
  "nbformat": 4,
  "nbformat_minor": 0,
  "metadata": {
    "colab": {
      "name": "TP2_Data-types.ipynb",
      "provenance": [],
      "collapsed_sections": []
    },
    "kernelspec": {
      "name": "python3",
      "display_name": "Python 3"
    },
    "language_info": {
      "name": "python"
    }
  },
  "cells": [
    {
      "cell_type": "markdown",
      "metadata": {
        "id": "QC1fNkH_09u1"
      },
      "source": [
        "# **TP2 Data Types and `if` Structure**\n",
        "## $\\color{blue}{\\text{Exercise 1 - Even or odd numbers? }}$\n",
        "Ask the user to enter a number then display whether it is even or odd? "
      ]
    },
    {
      "cell_type": "code",
      "metadata": {
        "id": "3jT3aaiuJ1iI",
        "colab": {
          "base_uri": "https://localhost:8080/"
        },
        "outputId": "41d1e410-720e-4618-da1b-c7220b63a251"
      },
      "source": [
        "nb = int(input(\"Please type a number: \"))\n",
        "if nb % 2 == 0:\n",
        "     print(\"This is an even number.\")\n",
        "else:\n",
        "     print(\"This is an odd number\")\n",
        "  \n"
      ],
      "execution_count": 2,
      "outputs": [
        {
          "output_type": "stream",
          "name": "stdout",
          "text": [
            "Please type a number: 54\n",
            "This is an even number.\n"
          ]
        }
      ]
    },
    {
      "cell_type": "markdown",
      "metadata": {
        "id": "J4EcBWfwRJOq"
      },
      "source": [
        "## $\\color{blue}{\\text{Exercise 2 - Ticket prices }}$\n",
        "The price for visting a castle is as following:\n",
        "+  **free** for children between 0 and 11 years old\n",
        "+  **5 euros** for children between 12 and 17 years old and for adults over 60\n",
        "+  **10 euros** for adults (18-59)\n",
        "\n",
        "Write  a  program  that  asks  for  the  user’s  age  and  returns  the  price  charged."
      ]
    },
    {
      "cell_type": "code",
      "metadata": {
        "id": "PjMp6PHRRJyH",
        "colab": {
          "base_uri": "https://localhost:8080/"
        },
        "outputId": "2ad0f614-2ff5-46d3-f39f-f7c1b8ebc108"
      },
      "source": [
        "age_u=int(input(\"Enter your age: \"))\n",
        "if age_u<=11:\n",
        "    print(\"Ticket price: free\")\n",
        "elif (age_u >11 and age_u<18) or age_u >=60 :\n",
        "    print(\"Ticket price: 5 euros\")\n",
        "else:\n",
        "    print(\"Ticket price: 10 euros\")"
      ],
      "execution_count": 8,
      "outputs": [
        {
          "output_type": "stream",
          "name": "stdout",
          "text": [
            "Enter your age: 45\n",
            "Ticket price: 10 euros\n"
          ]
        }
      ]
    },
    {
      "cell_type": "markdown",
      "metadata": {
        "id": "8bYTvmFvV0Cw"
      },
      "source": [
        "## $\\color{blue}{\\text{Exercise 3 - How much to pay employees? }}$\n",
        "Write a program to ask the user for hours and rate per hour to compute gross pay, give the employee **1.5 times** the hourly rate for hours worked above **40 hours**."
      ]
    },
    {
      "cell_type": "code",
      "metadata": {
        "id": "bnbcVNykWVuT",
        "colab": {
          "base_uri": "https://localhost:8080/"
        },
        "outputId": "175ee957-d785-44cf-b208-468cccec0fd5"
      },
      "source": [
        "hours = float(input(\"Enter hours: \"))\n",
        "rate = float(input(\"Enter rate: \"))\n",
        "if hours > 40:\n",
        "  pay = 40*rate + (hours-40)*(1.5*rate)\n",
        "else:\n",
        "  pay = hours * rate\n",
        "print(\"The pay is: \",pay)"
      ],
      "execution_count": 12,
      "outputs": [
        {
          "output_type": "stream",
          "name": "stdout",
          "text": [
            "Enter hours: 45\n",
            "Enter rate: 10\n",
            "The pay is:  475.0\n"
          ]
        }
      ]
    },
    {
      "cell_type": "markdown",
      "metadata": {
        "id": "bZh9ob96RKK6"
      },
      "source": [
        "## $\\color{blue}{\\text{Exercise 4 - Which type? }}$\n",
        "Write a program to check the type of input that the user entered from the keyboard. \n",
        "\n",
        "$\\color{green}{\\text{Hints:}}$ \n",
        "+ `input()` function gets the user's input(which can be `str`,`int`,`float`... data) and returns always a string object. \n",
        "+ You can use `str()`,`int()` and `float()`functions in this exercice "
      ]
    },
    {
      "cell_type": "code",
      "metadata": {
        "id": "bUJN7pPLRQn6",
        "colab": {
          "base_uri": "https://localhost:8080/",
          "height": 270
        },
        "outputId": "5bb62abc-48a7-48fb-f7a7-2ec5df24a9dd"
      },
      "source": [
        "x = input(\"Enter something:\")\n",
        "\n",
        "if type(int(x)) == int:\n",
        "    print(x, \" is integer object.\")    \n",
        "elif type(float(x)) == float:\n",
        "    print(x, \"  is float object.\") \n",
        "elif type(x) == str:\n",
        "    print(x, \" is str object. \")          \n",
        "else:\n",
        "    print(x, \" is not float, int or string object\")\n",
        "\n"
      ],
      "execution_count": 69,
      "outputs": [
        {
          "output_type": "stream",
          "name": "stdout",
          "text": [
            "Enter something:5.4\n",
            "5.4\n"
          ]
        },
        {
          "output_type": "error",
          "ename": "ValueError",
          "evalue": "ignored",
          "traceback": [
            "\u001b[0;31m---------------------------------------------------------------------------\u001b[0m",
            "\u001b[0;31mValueError\u001b[0m                                Traceback (most recent call last)",
            "\u001b[0;32m<ipython-input-69-452390895022>\u001b[0m in \u001b[0;36m<module>\u001b[0;34m()\u001b[0m\n\u001b[1;32m      1\u001b[0m \u001b[0mx\u001b[0m \u001b[0;34m=\u001b[0m \u001b[0minput\u001b[0m\u001b[0;34m(\u001b[0m\u001b[0;34m\"Enter something:\"\u001b[0m\u001b[0;34m)\u001b[0m\u001b[0;34m\u001b[0m\u001b[0;34m\u001b[0m\u001b[0m\n\u001b[1;32m      2\u001b[0m \u001b[0mprint\u001b[0m\u001b[0;34m(\u001b[0m\u001b[0mx\u001b[0m\u001b[0;34m)\u001b[0m\u001b[0;34m\u001b[0m\u001b[0;34m\u001b[0m\u001b[0m\n\u001b[0;32m----> 3\u001b[0;31m \u001b[0;32mif\u001b[0m \u001b[0mtype\u001b[0m\u001b[0;34m(\u001b[0m\u001b[0mint\u001b[0m\u001b[0;34m(\u001b[0m\u001b[0mx\u001b[0m\u001b[0;34m)\u001b[0m\u001b[0;34m)\u001b[0m \u001b[0;34m==\u001b[0m \u001b[0mint\u001b[0m\u001b[0;34m:\u001b[0m\u001b[0;34m\u001b[0m\u001b[0;34m\u001b[0m\u001b[0m\n\u001b[0m\u001b[1;32m      4\u001b[0m     \u001b[0mprint\u001b[0m\u001b[0;34m(\u001b[0m\u001b[0mx\u001b[0m\u001b[0;34m,\u001b[0m \u001b[0;34m\" is integer object.\"\u001b[0m\u001b[0;34m)\u001b[0m\u001b[0;34m\u001b[0m\u001b[0;34m\u001b[0m\u001b[0m\n\u001b[1;32m      5\u001b[0m \u001b[0;32melif\u001b[0m \u001b[0mtype\u001b[0m\u001b[0;34m(\u001b[0m\u001b[0mfloat\u001b[0m\u001b[0;34m(\u001b[0m\u001b[0mx\u001b[0m\u001b[0;34m)\u001b[0m\u001b[0;34m)\u001b[0m \u001b[0;34m==\u001b[0m \u001b[0mfloat\u001b[0m\u001b[0;34m:\u001b[0m\u001b[0;34m\u001b[0m\u001b[0;34m\u001b[0m\u001b[0m\n",
            "\u001b[0;31mValueError\u001b[0m: invalid literal for int() with base 10: '5.4'"
          ]
        }
      ]
    },
    {
      "cell_type": "markdown",
      "metadata": {
        "id": "9ZYmhBy3uKyH"
      },
      "source": [
        "### $\\color{orange}{\\text{Q 1:}}$ Why the previous program didn't work when the user entered a float number? Have you identified other issues with this program?\n",
        "\n",
        "\n",
        "### $\\color{orange}{\\text{Q 2:}}$ What does ```try``` ... ```except``` structure do in the following program?\n"
      ]
    },
    {
      "cell_type": "code",
      "metadata": {
        "colab": {
          "base_uri": "https://localhost:8080/"
        },
        "id": "qxM3mBsOwYvN",
        "outputId": "3f241253-a132-4de3-b1cd-387f409ea55b"
      },
      "source": [
        "x = input(\"Enter something:\")\n",
        "try:\n",
        "    if type(int(x)) == int:\n",
        "        print(x, \" is integer object.\")    \n",
        "    elif type(float(x)) == float:\n",
        "        print(x, \"  is float object.\") \n",
        "    elif type(x) == str:\n",
        "        print(x, \" is str object. \")      \n",
        "except:\n",
        "    print(x, \" is not float, int or string object\")"
      ],
      "execution_count": 71,
      "outputs": [
        {
          "output_type": "stream",
          "name": "stdout",
          "text": [
            "Enter something:5.4\n",
            "5.4  is not float, int or string object\n"
          ]
        }
      ]
    },
    {
      "cell_type": "markdown",
      "metadata": {
        "id": "yB8VKDW7znMq"
      },
      "source": [
        "### $\\color{orange}{\\text{Q 3:}}$ What does the built-in function `eval()`do in the following program?"
      ]
    },
    {
      "cell_type": "code",
      "metadata": {
        "colab": {
          "base_uri": "https://localhost:8080/"
        },
        "id": "iSByMWzltgJw",
        "outputId": "0b41efc9-5e7b-4de3-b62d-37f65c0d2120"
      },
      "source": [
        "x = input(\"Enter something:\")\n",
        "try:\n",
        "    if type(eval(x)) == int:\n",
        "        print(x, \" is integer object.\")  \n",
        "    elif type(eval(x)) == float:\n",
        "        print(x, \"  is float object.\") \n",
        "    elif type(eval(x)) == bool:\n",
        "        print(x, \" is boolean object. \")      \n",
        "except:\n",
        "    print(x, \" is string object.\")"
      ],
      "execution_count": 65,
      "outputs": [
        {
          "output_type": "stream",
          "name": "stdout",
          "text": [
            "Enter something:true\n",
            "true  is string object.\n"
          ]
        }
      ]
    },
    {
      "cell_type": "markdown",
      "metadata": {
        "id": "YovYCP5NX7qR"
      },
      "source": [
        "## $\\color{blue}{\\text{Exercise 5 - Handle Non-numeric Input }}$\n",
        "Rewrite your pay program of exercise 3 so that your program handles non-numeric input.\n"
      ]
    },
    {
      "cell_type": "code",
      "metadata": {
        "colab": {
          "base_uri": "https://localhost:8080/"
        },
        "id": "8UCMXeBM5g5e",
        "outputId": "b1c1ffd1-f985-4c06-84d6-33936e986602"
      },
      "source": [
        "hour = input('Enter Hours: ')\n",
        "try:\n",
        "  hour = float(hour)\n",
        "except:\n",
        "  hour = input('Error, Please enter the numeric digit:')\n",
        "\n",
        "rate = input('Enter Rate: ')\n",
        "try:\n",
        "  rate = float(rate)\n",
        "except:\n",
        "  rate=input('Error, Please enter the numeric digit:')\n",
        "\n",
        "hour = float(hour)\n",
        "rate = float(rate)\n",
        "if hour<=40:\n",
        "  pay = hour*rate\n",
        "else:\n",
        "  pay = 40*rate + (hour-40)*(1.5*rate)\n",
        "print(\"The pay is: \",pay)"
      ],
      "execution_count": 2,
      "outputs": [
        {
          "output_type": "stream",
          "name": "stdout",
          "text": [
            "Enter Hours: 40\n",
            "Enter Rate: dix\n",
            "Error, Please enter the numeric digit:10\n",
            "The pay is:  400.0\n"
          ]
        }
      ]
    }
  ]
}