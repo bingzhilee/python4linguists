{
  "nbformat": 4,
  "nbformat_minor": 0,
  "metadata": {
    "colab": {
      "name": "Solutions-TP4_iteration-string.ipynb",
      "provenance": [],
      "collapsed_sections": []
    },
    "kernelspec": {
      "name": "python3",
      "display_name": "Python 3"
    },
    "language_info": {
      "name": "python"
    }
  },
  "cells": [
    {
      "cell_type": "markdown",
      "metadata": {
        "id": "kapLWQm2hOQe"
      },
      "source": [
        "## **1**. Comment each line of the ```while``` loop"
      ]
    },
    {
      "cell_type": "code",
      "metadata": {
        "id": "YnfhhWhzhLmH",
        "colab": {
          "base_uri": "https://localhost:8080/"
        },
        "outputId": "4a69ba41-fb3e-492c-e9ad-ea287dba4744"
      },
      "source": [
        "vowels = 'aeiou'\n",
        "word = 'Seatle'\n",
        "counter = 0\n",
        "cursor = 0\n",
        "while cursor < len(word): # looping through all the letters in the word (i.e. while the length of the word is greater than the value of the cursor\n",
        "    if word[cursor] in vowels:# if the letter at the current position is a vowel\n",
        "        cursor += 1 # if true, add one to the \"cursor\"(i.e. so that it points to the next letter) \n",
        "        continue # ends the current iteration (i.e. skip the two following statements)\n",
        "    cursor += 1 # if the letter is not in vowels, add one to the 'cursor'(i.e. so that it points to the next letter)\n",
        "    counter += 1 # add one to the 'counter',which stores the number of consonants \n",
        "print('The word has',counter,'consonant letters')"
      ],
      "execution_count": null,
      "outputs": [
        {
          "output_type": "stream",
          "name": "stdout",
          "text": [
            "The word has 3 consonant letters\n"
          ]
        }
      ]
    },
    {
      "cell_type": "markdown",
      "metadata": {
        "id": "wR2bKgRwhdQU"
      },
      "source": [
        "## **2**. Display all integers from 0 to 10 with a while loop."
      ]
    },
    {
      "cell_type": "code",
      "metadata": {
        "id": "9QJAY65OmV3X"
      },
      "source": [
        "i = 0\n",
        "while i <= 10:\n",
        "    print(i)\n",
        "    i+=1"
      ],
      "execution_count": null,
      "outputs": []
    },
    {
      "cell_type": "markdown",
      "metadata": {
        "id": "o8Hk5QcChqbl"
      },
      "source": [
        "## **3**. Ask the user to enter a word and then use a `for` loop to test:\n",
        "- If the word contains the letter A (if true, count and print the number of As in the word)\n",
        "- If the word contains the letter A or E\n",
        "- If the word contains the letters A and E"
      ]
    },
    {
      "cell_type": "code",
      "metadata": {
        "id": "_Msh3QDumTvc",
        "colab": {
          "base_uri": "https://localhost:8080/"
        },
        "outputId": "750f2351-7c2d-42f9-830e-383da1508cc0"
      },
      "source": [
        "word = input(\"Enter a word : \")\n",
        "is_a = False\n",
        "is_e = False\n",
        "count_a = 0\n",
        "for c in word:\n",
        "    if c == 'a':\n",
        "        is_a = True\n",
        "        count_a +=1\n",
        "    if c == 'e':\n",
        "        is_e = True\n",
        "\n",
        "if is_a:\n",
        "  print(\"This word contains\",count_a, \"a(s).\")\n",
        "if is_a or is_e:\n",
        "  print(\"This word contains a or e\")\n",
        "if is_a and is_e:\n",
        "  print(\"This word contains both a and e\")"
      ],
      "execution_count": null,
      "outputs": [
        {
          "output_type": "stream",
          "name": "stdout",
          "text": [
            "Enter a word : Seattle\n",
            "This word contains 1 a(s).\n",
            "This word contains a or e\n",
            "This word contains both a and e\n"
          ]
        }
      ]
    },
    {
      "cell_type": "markdown",
      "metadata": {
        "id": "o247baS8CPdT"
      },
      "source": [
        "## **4**. conjugate First group verb\n",
        "Ask the user to enter a French first group verb. Write a program to check if the verb is valid (i.e. ending with -*er*), then conjugate the verb in the indicative present tense. For example, given the verb *parler*, the expected output is:\n",
        "\n",
        "`je` `parle`<br>\n",
        "`tu` `parles`<br>\n",
        "`il` `parle`<br>\n",
        "`nous` `parlons`<br>\n",
        "`vous` `parlez`<br>\n",
        "`ils` `parlent`"
      ]
    },
    {
      "cell_type": "code",
      "metadata": {
        "colab": {
          "base_uri": "https://localhost:8080/"
        },
        "id": "dvscEwdFCkzF",
        "outputId": "94dde270-93b7-4981-adbb-fe4d1e6174f3"
      },
      "source": [
        "verb = input(\"Enter a French first group verb: \")\n",
        "ending = \"er\"\n",
        "if verb[-2:] == ending:\n",
        "    stem = verb[:-2]\n",
        "    print(\"je \" + stem + \"e\")\n",
        "    print(\"tu \" + stem + \"es\")\n",
        "    print(\"il \" + stem + \"e\")\n",
        "    print(\"nous \" + stem + \"ons\")\n",
        "    print(\"vous \" + stem + \"ez\")\n",
        "    print(\"ils \" + stem + \"ent\")   \n",
        "else:\n",
        "    print(\"Error: this is not a first group verb\")"
      ],
      "execution_count": null,
      "outputs": [
        {
          "output_type": "stream",
          "name": "stdout",
          "text": [
            "Enter a French first group verb: parler\n",
            "je parle\n",
            "tu parles\n",
            "il parle\n",
            "nous parlons\n",
            "vous parlez\n",
            "ils parlent\n"
          ]
        }
      ]
    },
    {
      "cell_type": "markdown",
      "metadata": {
        "id": "YyD9WZ0MClKb"
      },
      "source": [
        "## **5**. Ask the user to enter a sentence. Write a program that:\n",
        "- Checks if the sentence has at least 10 words, and if not true, ask users for input until they provide a sentence length of at least 10 words\n",
        "- Prints the most frequent letter and its number of occurrences\n",
        "- Prints the most frequent word and its number of occurences\n",
        "- Don't distinguish between upper and lowercase letters; \"D\" and \"d\" will count for two occurrences of D\n",
        "\n",
        "Expected output:\n",
        "\n",
        "`Please enter a sentence: Hello world!`<br>\n",
        "`You have entered only two words. Please enter a new sentence with at least ten words.`<br>\n",
        "`Does your python bite? No, but it can hurt you, python, by indentation error!`<br>\n",
        "`The most frequent letter: \"o\" occurs 7 times.`<br>\n",
        "`The most frequent word: \"python\" occurs 2 times.` "
      ]
    },
    {
      "cell_type": "code",
      "metadata": {
        "colab": {
          "base_uri": "https://localhost:8080/"
        },
        "id": "qJueh1q8Gpzs",
        "outputId": "10ea1088-97d6-4e6c-ca0f-5ea332c42c52"
      },
      "source": [
        "sent = input(\"Please enter a sentence: \")\n",
        "tokens = sent.split()\n",
        "n_tokens = len(tokens)\n",
        "while n_tokens < 10:\n",
        "    print('You have entered only', n_tokens, 'words.')\n",
        "    sent = input('Please enter a new one with at least 10 words : ')\n",
        "    tokens = sent.split()\n",
        "    n_tokens = len(tokens)\n",
        "\n",
        "d_word = {}\n",
        "d_letter = {}\n",
        "for word in tokens:\n",
        "    word = word.lower()\n",
        "    word = word.replace(',', \"\")   \n",
        "    word = word.replace('?', \"\")   \n",
        "    word = word.replace('!', \"\")\n",
        "    # you can also use regular expression to remove all the punctuations\n",
        "    # import re # import regular expression module\n",
        "    # sent = re.sub(r'[^\\w\\s]', '', sent) # remove all the non-word, non-space characters in sentence string\n",
        "    if word in d_word:\n",
        "      d_word[word] += 1\n",
        "    else:\n",
        "      d_word[word] = 1\n",
        "    for letter in word:\n",
        "      letter = letter.lower()\n",
        "      if letter in d_letter:\n",
        "        d_letter[letter] += 1\n",
        "      else:\n",
        "        d_letter[letter] = 1\n",
        "\n",
        "freq_letter = max(d_letter, key = d_letter.get) #use the key parameter to max()\n",
        "freq_word = max(d_word, key = d_word.get)\n",
        "\n",
        "print('The most frequent letter : ', '\\''+ freq_letter + '\\'', 'occurs', d_letter[freq_letter], 'times.')\n",
        "print('The most frequent word : ', '\\''+ freq_word + '\\'', 'occurs', d_word[freq_word], 'times.\\n')\n",
        "\n"
      ],
      "execution_count": null,
      "outputs": [
        {
          "output_type": "stream",
          "name": "stdout",
          "text": [
            "Please enter a sentence: Does your python bite? No, but it can hurt you, python, by indentation error!\n",
            "The most frequent letter :  'o' occurs 8 times.\n",
            "The most frequent word :  'python' occurs 2 times.\n",
            "\n"
          ]
        }
      ]
    },
    {
      "cell_type": "markdown",
      "metadata": {
        "id": "Mu5S9v5_C7tP"
      },
      "source": [
        "## **6**. First game in python\n",
        " The computer draws a random number and asks the user to make a guess. \n",
        "- If the guess is lower than the randomly generated integer, the program will print \"Too low! Try again.\"\n",
        "- If the guess is higher than the target number, the program will print \"Too high! Try again.\"\n",
        "- If the guess is equal to the target number, the program will ask the user if they want to play again.\n",
        "- Set a maximum number of attempts allowed. Once this number is reached, the game is over.\n",
        "\n",
        "To draw a random number, we will use the `random` module of Python. You have to first import it by writing `import random` at the beginning of your code:<br>\n",
        "`import random`<br>\n",
        "`target_nb = random.randint(0,100)` # draw an integer between 0 and 100\n"
      ]
    },
    {
      "cell_type": "code",
      "metadata": {
        "colab": {
          "base_uri": "https://localhost:8080/"
        },
        "id": "AgozbpFZC8_B",
        "outputId": "70351582-f316-4d31-dd42-e2707a8b9ff4"
      },
      "source": [
        "import random\n",
        "print(\"Hi! I'm thinking of a random number between 0 and 100.\")\n",
        "print(\"You'll have 7 tries to guess the number!\")\n",
        "play_again = True\n",
        "\n",
        "while play_again : #boolean variable 'play_again' to ask the users if they want to play again\n",
        "    attempt = 0\n",
        "    target = int(random.randint(0,100))\n",
        "    while attempt < 7 :\n",
        "        print('--- Attempt', attempt+1)\n",
        "        guess = int(input('Guess what number I am thinking of : '))\n",
        "        if guess == target :\n",
        "            print('Bravo! You got the right number!')\n",
        "            break\n",
        "        elif guess < target :\n",
        "            print('Too low!')\n",
        "        else :\n",
        "            print('Too high!')\n",
        "        attempt += 1\n",
        "        if attempt < 7 :\n",
        "            print('Try again!\\n')\n",
        "        else :\n",
        "            print('Aw, you ran out of tries. The number was', target, '.')\n",
        "            \n",
        "    again = input('You want to play again ? (y/n) ')\n",
        "    if again == 'n' :\n",
        "        play_again = False"
      ],
      "execution_count": null,
      "outputs": [
        {
          "name": "stdout",
          "output_type": "stream",
          "text": [
            "Hi! I'm thinking of a random number between 0 and 100.\n",
            "You'll have 7 tries to guess the number!\n",
            "--- Attempt 1\n",
            "Guess what number I am thinking of : 50\n",
            "Too low!\n",
            "Try again!\n",
            "\n",
            "--- Attempt 2\n",
            "Guess what number I am thinking of : 75\n",
            "Too low!\n",
            "Try again!\n",
            "\n",
            "--- Attempt 3\n",
            "Guess what number I am thinking of : 85\n",
            "Too high!\n",
            "Try again!\n",
            "\n",
            "--- Attempt 4\n",
            "Guess what number I am thinking of : 80\n",
            "Bravo! You got the right number!\n",
            "You want to play again ? (y/n) y\n",
            "--- Attempt 1\n",
            "Guess what number I am thinking of : 50\n",
            "Too low!\n",
            "Try again!\n",
            "\n",
            "--- Attempt 2\n",
            "Guess what number I am thinking of : 75\n",
            "Too low!\n",
            "Try again!\n",
            "\n",
            "--- Attempt 3\n",
            "Guess what number I am thinking of : 80\n",
            "Too high!\n",
            "Try again!\n",
            "\n",
            "--- Attempt 4\n",
            "Guess what number I am thinking of : 78\n",
            "Bravo! You got the right number!\n",
            "You want to play again ? (y/n) n\n"
          ]
        }
      ]
    },
    {
      "cell_type": "code",
      "metadata": {
        "id": "CM_70TZvcBm1"
      },
      "source": [
        ""
      ],
      "execution_count": null,
      "outputs": []
    }
  ]
}